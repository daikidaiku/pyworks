{
 "cells": [
  {
   "cell_type": "code",
   "execution_count": 15,
   "metadata": {},
   "outputs": [
    {
     "name": "stdout",
     "output_type": "stream",
     "text": [
      "None\n"
     ]
    }
   ],
   "source": [
    "import matplotlib.pyplot as plt\n",
    "import numpy as np\n",
    "import pandas as pd\n",
    "import csv\n",
    "import os\n",
    "from dotenv import load_dotenv\n",
    "\n",
    "# # .envファイルの読み込み\n",
    "load_dotenv()\n",
    "\n",
    "path = os.getenv('DATA_PATH')\n",
    "\n",
    "print(path)\n",
    "\n",
    "# df = pd.read_csv(path,encoding=\"shift-jis\")\n",
    "# # print(df)\n",
    "# # force = l(1,2)\n",
    "# data = df.iloc[1:,0:3]\n",
    "# stroke = data.iloc[0:,2]\n",
    "# force = data.iloc[0:,1]\n",
    "\n",
    "# # print(stroke)\n",
    "# # print(force)\n",
    "# # plt.clf()\n",
    "# plt.plot(stroke,force)\n",
    "# plt.tick_params(labelbottom=False, labelleft=False, labelright=False, labeltop=False, bottom=False, left=False, right=False, top=False)\n",
    "\n",
    "\n",
    "\n",
    "\n",
    "\n",
    "# x = np.linspace(0, 10, 100)\n",
    "# y = x + np.random.randn(100) \n",
    "# plt.clf()\n",
    "# plt.plot(x, y, label=\"test\")\n"
   ]
  }
 ],
 "metadata": {
  "kernelspec": {
   "display_name": "Python 3",
   "language": "python",
   "name": "python3"
  },
  "language_info": {
   "codemirror_mode": {
    "name": "ipython",
    "version": 3
   },
   "file_extension": ".py",
   "mimetype": "text/x-python",
   "name": "python",
   "nbconvert_exporter": "python",
   "pygments_lexer": "ipython3",
   "version": "3.8.18"
  }
 },
 "nbformat": 4,
 "nbformat_minor": 2
}
